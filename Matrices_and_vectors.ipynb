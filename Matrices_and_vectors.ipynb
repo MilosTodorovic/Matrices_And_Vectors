{
 "cells": [
  {
   "cell_type": "code",
   "execution_count": null,
   "metadata": {},
   "outputs": [],
   "source": [
    "# 1. Creating a vector"
   ]
  },
  {
   "cell_type": "code",
   "execution_count": 1,
   "metadata": {},
   "outputs": [],
   "source": [
    "y = [1, 2, 3, 4, 5, 6]"
   ]
  },
  {
   "cell_type": "code",
   "execution_count": 2,
   "metadata": {},
   "outputs": [
    {
     "data": {
      "text/plain": [
       "6"
      ]
     },
     "execution_count": 2,
     "metadata": {},
     "output_type": "execute_result"
    }
   ],
   "source": [
    "y[5]"
   ]
  },
  {
   "cell_type": "code",
   "execution_count": 3,
   "metadata": {},
   "outputs": [],
   "source": [
    "# Function for returning the length of the vector\n",
    "def sizeVec(u):\n",
    "    return len(y)"
   ]
  },
  {
   "cell_type": "code",
   "execution_count": 4,
   "metadata": {},
   "outputs": [
    {
     "data": {
      "text/plain": [
       "6"
      ]
     },
     "execution_count": 4,
     "metadata": {},
     "output_type": "execute_result"
    }
   ],
   "source": [
    "sizeVec(y)"
   ]
  },
  {
   "cell_type": "code",
   "execution_count": 5,
   "metadata": {},
   "outputs": [],
   "source": [
    "# 2. Matrix creation\n",
    "M = [[1, 2, 3, 4, 5], [6, 7, 8, 9, 10]]"
   ]
  },
  {
   "cell_type": "code",
   "execution_count": 6,
   "metadata": {},
   "outputs": [
    {
     "data": {
      "text/plain": [
       "2"
      ]
     },
     "execution_count": 6,
     "metadata": {},
     "output_type": "execute_result"
    }
   ],
   "source": [
    "len(M) # Number of rows"
   ]
  },
  {
   "cell_type": "code",
   "execution_count": 7,
   "metadata": {},
   "outputs": [
    {
     "data": {
      "text/plain": [
       "5"
      ]
     },
     "execution_count": 7,
     "metadata": {},
     "output_type": "execute_result"
    }
   ],
   "source": [
    "len(M[0]) # Number of columns"
   ]
  },
  {
   "cell_type": "code",
   "execution_count": 11,
   "metadata": {},
   "outputs": [
    {
     "data": {
      "text/plain": [
       "[2, 4, 7, 9, 10]"
      ]
     },
     "execution_count": 11,
     "metadata": {},
     "output_type": "execute_result"
    }
   ],
   "source": [
    "# 3. Vector addition\n",
    "# u = [1, 2, 3, 4, 5]\n",
    "# v = [1, 2, 4, 5, 5]\n",
    "# u + v = [2, 4, 7, 9, 10]\n",
    "\n",
    "u = [1, 2, 3, 4, 5]\n",
    "v = [1, 2, 4, 5, 5]\n",
    "\n",
    "def add(u, v):\n",
    "    w = []\n",
    "    for i in range(len(u)):\n",
    "        w.append(u[i] + v[i])\n",
    "    return w\n",
    "\n",
    "add(u, v)"
   ]
  },
  {
   "cell_type": "code",
   "execution_count": 14,
   "metadata": {},
   "outputs": [
    {
     "data": {
      "text/plain": [
       "[[8, 10, 12], [14, 16, 18]]"
      ]
     },
     "execution_count": 14,
     "metadata": {},
     "output_type": "execute_result"
    }
   ],
   "source": [
    "# 4. Compute the addition of two matrices M and N\n",
    "M = [[1, 2, 3], [4, 5, 6]] # R2X3\n",
    "N = [[7, 8, 9], [10, 11, 12]] #R2X3\n",
    "# W = [[8, 10, 12], [14, 16, 18]] #R2X3\n",
    "\n",
    "def add_matrix(U, V):\n",
    "    W = []\n",
    "    for i in range(len(U)):\n",
    "        temp = []\n",
    "        for j in range(len(U[0])):\n",
    "            temp.append(U[i][j] + V[i][j])\n",
    "        W.append(temp)\n",
    "    return W\n",
    "\n",
    "add_matrix(M, N)"
   ]
  },
  {
   "cell_type": "code",
   "execution_count": 15,
   "metadata": {},
   "outputs": [
    {
     "data": {
      "text/plain": [
       "[[1, 2, 3], [4, 5, 6], [7, 8, 9], [10, 11, 12]]"
      ]
     },
     "execution_count": 15,
     "metadata": {},
     "output_type": "execute_result"
    }
   ],
   "source": [
    "M + N # Gives us concatenation of matrices"
   ]
  },
  {
   "cell_type": "code",
   "execution_count": 35,
   "metadata": {},
   "outputs": [
    {
     "data": {
      "text/plain": [
       "[30.0, 70.0, 110.0]"
      ]
     },
     "execution_count": 35,
     "metadata": {},
     "output_type": "execute_result"
    }
   ],
   "source": [
    "# 5. Matrix M multiplication with vector v\n",
    "M = [[1, 2, 3, 4], [5, 6, 7, 8], [9, 10, 11, 12]] #R3X4\n",
    "v = [1, 2, 3, 4] #R4X1\n",
    "#M * v = [30, 70, 110] # R3X1\n",
    "\n",
    "def dot(M, v):\n",
    "    u = []\n",
    "    for i in range(len(M)):\n",
    "        temp = 0.0\n",
    "        for j in range(len(M[0])):\n",
    "            temp = temp + M[i][j] * v[j]\n",
    "        u.append(temp)\n",
    "    return u\n",
    "\n",
    "dot(M, v)"
   ]
  },
  {
   "cell_type": "code",
   "execution_count": 23,
   "metadata": {},
   "outputs": [
    {
     "data": {
      "text/plain": [
       "[[5, 6, 7, 8], [10, 12, 14, 16], [15, 18, 21, 24], [20, 24, 28, 32]]"
      ]
     },
     "execution_count": 23,
     "metadata": {},
     "output_type": "execute_result"
    }
   ],
   "source": [
    "# 6. Cross product between vectors u and v (u * v)\n",
    "u = [1, 2, 3, 4]\n",
    "v = [5, 6, 7, 8]\n",
    "# u * v= [[5, 6, 7, 8], [10, 12, 14, 16], [15, 18, 21, 24], [20, 24, 28, 32]]\n",
    "\n",
    "def cross(u, v):\n",
    "    M = []\n",
    "    for i in range(len(u)):\n",
    "        N = []\n",
    "        for j in range(len(v)):\n",
    "            N.append(u[i] * v[j])\n",
    "        M.append(N)\n",
    "    return M\n",
    "\n",
    "cross(u, v)"
   ]
  },
  {
   "cell_type": "code",
   "execution_count": 26,
   "metadata": {},
   "outputs": [
    {
     "data": {
      "text/plain": [
       "[5, 12, 21, 32]"
      ]
     },
     "execution_count": 26,
     "metadata": {},
     "output_type": "execute_result"
    }
   ],
   "source": [
    "# 7. Calculating the dot product of two vectors u and v\n",
    "u = [1, 2, 3, 4]\n",
    "v = [5, 6, 7, 8]\n",
    "# u * v = [5, 12, 21, 32]\n",
    "\n",
    "def ew_dot(u, v):\n",
    "    w = []\n",
    "    for i in range(len(u)):\n",
    "        w.append(u[i] * v[i])\n",
    "    return w\n",
    "\n",
    "ew_dot(u, v)"
   ]
  },
  {
   "cell_type": "code",
   "execution_count": 27,
   "metadata": {},
   "outputs": [
    {
     "data": {
      "text/plain": [
       "[25, 30, 35, 40]"
      ]
     },
     "execution_count": 27,
     "metadata": {},
     "output_type": "execute_result"
    }
   ],
   "source": [
    "# 8. Multiply scalar a with vector v\n",
    "a = 5\n",
    "v = [5, 6, 7, 8]\n",
    "# a * v = [25, 30, 35, 40]\n",
    "\n",
    "def scale_product(a, v):\n",
    "    w = []\n",
    "    for i in range(len(v)):\n",
    "        w.append(a * v[i])\n",
    "    return w\n",
    "\n",
    "scale_product(a, v)"
   ]
  },
  {
   "cell_type": "code",
   "execution_count": 29,
   "metadata": {},
   "outputs": [
    {
     "data": {
      "text/plain": [
       "[[5, 10, 15], [20, 25, 30]]"
      ]
     },
     "execution_count": 29,
     "metadata": {},
     "output_type": "execute_result"
    }
   ],
   "source": [
    "# 9. Multiplication the scale a with matrix M\n",
    "a = 5\n",
    "M = [[1, 2, 3,], [4, 5, 6]] #R2X3\n",
    "# a * M = [[1 * a, 2 * a, 3 * a], [4 * a, 5 * a, 6 * a]]\n",
    "#       = [[5, 10, 15], [20, 25, 30]]\n",
    "\n",
    "def scale_matrix(a, M):\n",
    "    W = []\n",
    "    for i in range(len(M)):\n",
    "        temp = []\n",
    "        for j in range(len(M[0])):\n",
    "            temp.append(a * M[i][j])\n",
    "        W.append(temp)\n",
    "    return W\n",
    "\n",
    "scale_matrix(a, M)"
   ]
  },
  {
   "cell_type": "code",
   "execution_count": 34,
   "metadata": {},
   "outputs": [
    {
     "data": {
      "text/plain": [
       "[[1, 4], [2, 5], [3, 6]]"
      ]
     },
     "execution_count": 34,
     "metadata": {},
     "output_type": "execute_result"
    }
   ],
   "source": [
    "# 10. Matrix transpositon\n",
    "M = [[1, 2, 3], [4, 5, 6]] #R2X3\n",
    "# Transpose M = [[1, 4], [2, 5], [3, 6]]\n",
    "\n",
    "def tanspose(M):\n",
    "    W = []\n",
    "    for j in range(len(M[0])):\n",
    "        u = []\n",
    "        for i in range(len(M)):\n",
    "            u.append(M[i][j])\n",
    "        W.append(u)\n",
    "    return W\n",
    "\n",
    "tanspose(M)"
   ]
  },
  {
   "cell_type": "code",
   "execution_count": null,
   "metadata": {},
   "outputs": [],
   "source": []
  }
 ],
 "metadata": {
  "kernelspec": {
   "display_name": "Python 3",
   "language": "python",
   "name": "python3"
  },
  "language_info": {
   "codemirror_mode": {
    "name": "ipython",
    "version": 3
   },
   "file_extension": ".py",
   "mimetype": "text/x-python",
   "name": "python",
   "nbconvert_exporter": "python",
   "pygments_lexer": "ipython3",
   "version": "3.7.4"
  }
 },
 "nbformat": 4,
 "nbformat_minor": 2
}
